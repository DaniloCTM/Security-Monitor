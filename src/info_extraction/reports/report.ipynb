{
 "cells": [
  {
   "cell_type": "markdown",
   "id": "95e4880d",
   "metadata": {},
   "source": [
    "### Análise de Risco de Rua Tranquila Noturna\n",
    "\n",
    "**Nível de Risco:** Médio\n",
    "\n",
    "**Justificativa:** A falta de iluminação adequada, combinada com a superfície desgastada da rua e a ausência de pessoas, cria um ambiente propício a atividades criminosas. Embora não haja sinais óbvios de perigo imediato, a vulnerabilidade do local justifica uma classificação de risco médio.\n",
    "\n",
    "### Evidências Observadas\n",
    "\n",
    "| Elemento Observado | Condição | Implicação para Segurança |\n",
    "| :--- | :--- | :--- |\n",
    "| Iluminação pública | Desligado | Reduz significativamente a visibilidade, aumentando o risco |\n",
    "| Superfície da rua | Desgastado | Pode dificultar a fuga em caso de emergência |\n",
    "| Muro com cerca | Bom Estado | Oferece alguma barreira física, mas não garante segurança completa |\n",
    "| Atividades humanas | Ausente | Falta de testemunhas potenciais aumenta vulnerabilidade |\n",
    "| Edifícios | Bom Estado | Não oferecem proteção extra, mas a arquitetura não apresenta riscos específicos |\n",
    "\n",
    "### Fatores de Risco\n",
    "\n",
    "- Iluminação precária\n",
    "- Superfície desgastada da rua\n",
    "- Ausência de pessoas e monitoramento\n",
    "- Local isolado\n",
    "\n",
    "### Fatores de Proteção\n",
    "\n",
    "- Ambiente aparentemente tranquilo\n",
    "- Presença de um muro com cerca\n",
    "\n",
    "### Recomendações\n",
    "\n",
    "- Melhorar a iluminação pública\n",
    "- Reparar a superfície da rua\n",
    "- Aumentar o patrulhamento policial noturno\n",
    "- Instalar câmeras de segurança"
   ]
  }
 ],
 "metadata": {
  "language_info": {
   "name": "python"
  }
 },
 "nbformat": 4,
 "nbformat_minor": 5
}
